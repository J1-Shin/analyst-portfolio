{
 "cells": [
  {
   "cell_type": "code",
   "execution_count": 5,
   "id": "c345f604-91ab-4649-8253-1cdb702312bb",
   "metadata": {},
   "outputs": [
    {
     "name": "stdout",
     "output_type": "stream",
     "text": [
      "          ScheduledDT AppointmentDT  NoShow\n",
      "0 2016-04-29 18:38:08    2016-04-29   False\n",
      "1 2016-04-29 16:08:27    2016-04-29   False\n",
      "2 2016-04-29 16:19:04    2016-04-29   False\n",
      "3 2016-04-29 17:29:31    2016-04-29   False\n",
      "4 2016-04-29 16:07:23    2016-04-29   False\n"
     ]
    }
   ],
   "source": [
    "import os \n",
    "import numpy as np\n",
    "import pandas as pd\n",
    "import matplotlib.pyplot as plt\n",
    "\n",
    "raw_path = \"../data/raw/KaggleV2-May-2016.csv\"\n",
    "df = pd.read_csv(raw_path)\n",
    "\n",
    "df[\"ScheduledDT\"] = pd.to_datetime(df[\"ScheduledDay\"].astype(str).str.replace(\"Z\",\"\",regex=False), errors=\"coerce\")\n",
    "df[\"AppointmentDT\"] = pd.to_datetime(df[\"AppointmentDay\"].astype(str).str.replace(\"Z\",\"\",regex=False), errors=\"coerce\")\n",
    "\n",
    "df[\"NoShow\"] = (df[\"No-show\"] == \"Yes\")\n",
    "\n",
    "print(df[[\"ScheduledDT\", \"AppointmentDT\", \"NoShow\"]].head())"
   ]
  },
  {
   "cell_type": "code",
   "execution_count": 7,
   "id": "8dc8ce4a-5b0d-4bf8-8548-bdccb3534480",
   "metadata": {},
   "outputs": [
    {
     "data": {
      "text/plain": [
       "count    71959.000000\n",
       "mean        14.229200\n",
       "std         14.724098\n",
       "min          0.000000\n",
       "25%          3.000000\n",
       "50%          8.000000\n",
       "75%         21.000000\n",
       "max         60.000000\n",
       "Name: LeadTime, dtype: float64"
      ]
     },
     "execution_count": 7,
     "metadata": {},
     "output_type": "execute_result"
    }
   ],
   "source": [
    "df[\"LeadTime\"] = (df[\"AppointmentDT\"] - df[\"ScheduledDT\"]).dt.days\n",
    "\n",
    "df = df.dropna(subset=[\"LeadTime\"])\n",
    "df = df[df[\"LeadTime\"] >= 0]\n",
    "\n",
    "df.loc[df[\"LeadTime\"] > 60, \"LeadTime\"] = 60\n",
    "df[\"LeadTime\"].describe()"
   ]
  },
  {
   "cell_type": "code",
   "execution_count": 10,
   "id": "b933bf40-4cb4-4884-8f97-f30079e72cc3",
   "metadata": {},
   "outputs": [
    {
     "data": {
      "text/html": [
       "<div>\n",
       "<style scoped>\n",
       "    .dataframe tbody tr th:only-of-type {\n",
       "        vertical-align: middle;\n",
       "    }\n",
       "\n",
       "    .dataframe tbody tr th {\n",
       "        vertical-align: top;\n",
       "    }\n",
       "\n",
       "    .dataframe thead th {\n",
       "        text-align: right;\n",
       "    }\n",
       "</style>\n",
       "<table border=\"1\" class=\"dataframe\">\n",
       "  <thead>\n",
       "    <tr style=\"text-align: right;\">\n",
       "      <th></th>\n",
       "      <th>LeadTimeBucket</th>\n",
       "      <th>Appointments</th>\n",
       "      <th>NoShows</th>\n",
       "      <th>NoShowRate</th>\n",
       "    </tr>\n",
       "  </thead>\n",
       "  <tbody>\n",
       "    <tr>\n",
       "      <th>0</th>\n",
       "      <td>0d</td>\n",
       "      <td>5213</td>\n",
       "      <td>1113</td>\n",
       "      <td>0.213505</td>\n",
       "    </tr>\n",
       "    <tr>\n",
       "      <th>1</th>\n",
       "      <td>1-2d</td>\n",
       "      <td>9462</td>\n",
       "      <td>2246</td>\n",
       "      <td>0.237371</td>\n",
       "    </tr>\n",
       "    <tr>\n",
       "      <th>2</th>\n",
       "      <td>3-5d</td>\n",
       "      <td>12604</td>\n",
       "      <td>3104</td>\n",
       "      <td>0.246271</td>\n",
       "    </tr>\n",
       "    <tr>\n",
       "      <th>3</th>\n",
       "      <td>6-10d</td>\n",
       "      <td>11221</td>\n",
       "      <td>3171</td>\n",
       "      <td>0.282595</td>\n",
       "    </tr>\n",
       "    <tr>\n",
       "      <th>4</th>\n",
       "      <td>11-20d</td>\n",
       "      <td>14584</td>\n",
       "      <td>4663</td>\n",
       "      <td>0.319734</td>\n",
       "    </tr>\n",
       "    <tr>\n",
       "      <th>5</th>\n",
       "      <td>21-30d</td>\n",
       "      <td>9169</td>\n",
       "      <td>3020</td>\n",
       "      <td>0.329371</td>\n",
       "    </tr>\n",
       "    <tr>\n",
       "      <th>6</th>\n",
       "      <td>31-60d</td>\n",
       "      <td>9706</td>\n",
       "      <td>3205</td>\n",
       "      <td>0.330208</td>\n",
       "    </tr>\n",
       "  </tbody>\n",
       "</table>\n",
       "</div>"
      ],
      "text/plain": [
       "  LeadTimeBucket  Appointments  NoShows  NoShowRate\n",
       "0             0d          5213     1113    0.213505\n",
       "1           1-2d          9462     2246    0.237371\n",
       "2           3-5d         12604     3104    0.246271\n",
       "3          6-10d         11221     3171    0.282595\n",
       "4         11-20d         14584     4663    0.319734\n",
       "5         21-30d          9169     3020    0.329371\n",
       "6         31-60d          9706     3205    0.330208"
      ]
     },
     "execution_count": 10,
     "metadata": {},
     "output_type": "execute_result"
    }
   ],
   "source": [
    "bins = [-0.1, 0, 2, 5, 10, 20, 30, 60]\n",
    "labels = [\"0d\", \"1-2d\", \"3-5d\", \"6-10d\", \"11-20d\", \"21-30d\", \"31-60d\"]\n",
    "df[\"LeadTimeBucket\"] = pd.cut(df[\"LeadTime\"], bins=bins, labels=labels, include_lowest=True, right=True)\n",
    "\n",
    "leadtime_summary = (\n",
    "    df.groupby(\"LeadTimeBucket\", observed=False)\n",
    "    .agg(Appointments=(\"NoShow\", \"size\"), # total booking\n",
    "         NoShows=(\"NoShow\",\"sum\")) #Noshow(true = 1)\n",
    "    .assign(NoShowRate=lambda t: t[\"NoShows\"]/t[\"Appointments\"])\n",
    "    .reset_index()\n",
    ")\n",
    "\n",
    "leadtime_summary"
   ]
  },
  {
   "cell_type": "code",
   "execution_count": 12,
   "id": "4fca106c-1133-4886-bcab-2b8ecbd51208",
   "metadata": {},
   "outputs": [
    {
     "data": {
      "image/png": "[encoded data removed]",
      "text/plain": [
       "<Figure size 800x500 with 1 Axes>"
      ]
     },
     "metadata": {},
     "output_type": "display_data"
    },
    {
     "name": "stdout",
     "output_type": "stream",
     "text": [
      "saved chart to: ../assets/no_show_rate_by_leadtime.png\n"
     ]
    }
   ],
   "source": [
    "plt.figure(figsize=(8,5))\n",
    "plt.bar(leadtime_summary[\"LeadTimeBucket\"].astype(str), leadtime_summary[\"NoShowRate\"])\n",
    "plt.title(\"No-show Rate by Lead Time\")\n",
    "plt.xlabel(\"Lead Time (days)\")\n",
    "plt.ylabel(\"No-show Rate\")\n",
    "plt.tight_layout()\n",
    "\n",
    "os.makedirs(\"../assets\", exist_ok=True)\n",
    "chart_path = \"../assets/no_show_rate_by_leadtime.png\"\n",
    "plt.savefig(chart_path, dpi=150, bbox_inches=\"tight\", facecolor=\"white\")\n",
    "plt.show()\n",
    "\n",
    "print(f\"saved chart to: {chart_path}\")"
   ]
  },
  {
   "cell_type": "code",
   "execution_count": 13,
   "id": "73fa53c9-4e2d-4737-a30d-d51b4dd2b3c9",
   "metadata": {},
   "outputs": [
    {
     "name": "stdout",
     "output_type": "stream",
     "text": [
      "saved table to: ../data/processed/leadtime_noshow_summary.csv\n"
     ]
    }
   ],
   "source": [
    "os.makedirs(\"../data/processed\", exist_ok = True)\n",
    "csv_path = \"../data/processed/leadtime_noshow_summary.csv\"\n",
    "leadtime_summary.to_csv(csv_path, index=False)\n",
    "print(f\"saved table to: {csv_path}\")"
   ]
  },
  {
   "cell_type": "code",
   "execution_count": null,
   "id": "42c30f4c-e332-4908-9deb-57a1d6d71d2e",
   "metadata": {},
   "outputs": [],
   "source": []
  }
 ],
 "metadata": {
  "kernelspec": {
   "display_name": "Python 3 (ipykernel)",
   "language": "python",
   "name": "python3"
  },
  "language_info": {
   "codemirror_mode": {
    "name": "ipython",
    "version": 3
   },
   "file_extension": ".py",
   "mimetype": "text/x-python",
   "name": "python",
   "nbconvert_exporter": "python",
   "pygments_lexer": "ipython3",
   "version": "3.12.7"
  }
 },
 "nbformat": 4,
 "nbformat_minor": 5
}
